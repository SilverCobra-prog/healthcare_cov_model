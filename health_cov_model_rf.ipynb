{
  "nbformat": 4,
  "nbformat_minor": 0,
  "metadata": {
    "colab": {
      "provenance": []
    },
    "kernelspec": {
      "name": "python3",
      "display_name": "Python 3"
    },
    "language_info": {
      "name": "python"
    }
  },
  "cells": [
    {
      "cell_type": "code",
      "source": [
        "pip install shap"
      ],
      "metadata": {
        "colab": {
          "base_uri": "https://localhost:8080/"
        },
        "id": "_C4UZF588XDK",
        "outputId": "2f72d581-2215-4e77-cc16-5c4dbe0ae146"
      },
      "execution_count": 1,
      "outputs": [
        {
          "output_type": "stream",
          "name": "stdout",
          "text": [
            "Requirement already satisfied: shap in /usr/local/lib/python3.10/dist-packages (0.42.0)\n",
            "Requirement already satisfied: numpy in /usr/local/lib/python3.10/dist-packages (from shap) (1.22.4)\n",
            "Requirement already satisfied: scipy in /usr/local/lib/python3.10/dist-packages (from shap) (1.10.1)\n",
            "Requirement already satisfied: scikit-learn in /usr/local/lib/python3.10/dist-packages (from shap) (1.2.2)\n",
            "Requirement already satisfied: pandas in /usr/local/lib/python3.10/dist-packages (from shap) (1.5.3)\n",
            "Requirement already satisfied: tqdm>=4.27.0 in /usr/local/lib/python3.10/dist-packages (from shap) (4.65.0)\n",
            "Requirement already satisfied: packaging>20.9 in /usr/local/lib/python3.10/dist-packages (from shap) (23.1)\n",
            "Requirement already satisfied: slicer==0.0.7 in /usr/local/lib/python3.10/dist-packages (from shap) (0.0.7)\n",
            "Requirement already satisfied: numba in /usr/local/lib/python3.10/dist-packages (from shap) (0.56.4)\n",
            "Requirement already satisfied: cloudpickle in /usr/local/lib/python3.10/dist-packages (from shap) (2.2.1)\n",
            "Requirement already satisfied: llvmlite<0.40,>=0.39.0dev0 in /usr/local/lib/python3.10/dist-packages (from numba->shap) (0.39.1)\n",
            "Requirement already satisfied: setuptools in /usr/local/lib/python3.10/dist-packages (from numba->shap) (67.7.2)\n",
            "Requirement already satisfied: python-dateutil>=2.8.1 in /usr/local/lib/python3.10/dist-packages (from pandas->shap) (2.8.2)\n",
            "Requirement already satisfied: pytz>=2020.1 in /usr/local/lib/python3.10/dist-packages (from pandas->shap) (2022.7.1)\n",
            "Requirement already satisfied: joblib>=1.1.1 in /usr/local/lib/python3.10/dist-packages (from scikit-learn->shap) (1.3.1)\n",
            "Requirement already satisfied: threadpoolctl>=2.0.0 in /usr/local/lib/python3.10/dist-packages (from scikit-learn->shap) (3.1.0)\n",
            "Requirement already satisfied: six>=1.5 in /usr/local/lib/python3.10/dist-packages (from python-dateutil>=2.8.1->pandas->shap) (1.16.0)\n"
          ]
        }
      ]
    },
    {
      "cell_type": "code",
      "execution_count": 2,
      "metadata": {
        "id": "MoXBOTTS3Xpk",
        "colab": {
          "base_uri": "https://localhost:8080/"
        },
        "outputId": "2516d653-a963-4bb7-b9a1-cd2eebd03aad"
      },
      "outputs": [
        {
          "output_type": "stream",
          "name": "stderr",
          "text": [
            "Using `tqdm.autonotebook.tqdm` in notebook mode. Use `tqdm.tqdm` instead to force console mode (e.g. in jupyter console)\n"
          ]
        }
      ],
      "source": [
        "import pandas as pd\n",
        "from sklearn.model_selection import train_test_split\n",
        "from sklearn.preprocessing import LabelEncoder, StandardScaler\n",
        "from sklearn.ensemble import RandomForestClassifier\n",
        "from sklearn.metrics import accuracy_score, confusion_matrix\n",
        "import seaborn as sns\n",
        "import matplotlib.pyplot as plt\n",
        "import shap"
      ]
    },
    {
      "cell_type": "code",
      "source": [
        "# Load the dataset\n",
        "url = 'https://drive.google.com/uc?id={}'.format('1eFIUsn6RX6rZOmq1v8_-VfOfM9odXGV1')\n",
        "data = pd.read_csv(url)\n",
        "\n",
        "# Drop rows with missing values\n",
        "data = data.dropna()\n",
        "\n",
        "# Identify categorical variables\n",
        "categorical_vars = ['SEX', 'MARSTAT', 'REGIONMEPS', 'RELATE', 'RACEA', 'EDUC', 'STUDENT', 'WORKEV', 'FOODSTYN', 'FILEWILL', 'FILETAXFRM', 'HEALTH', 'USUALPL', 'USCMEDTYP', 'USCPRTYP', 'USCPRFAC', 'DELAYMC', 'ANYLMT', 'ADDEV', 'ANGIPECEV', 'ARTHGLUPEV', 'ASTHMAEV', 'CANCEREV', 'CHEARTDIEV', 'CHOLHIGHEV', 'DIABETICEV', 'EMPHYSEMEV', 'HEARTATTEV', 'HEARTCONEV', 'HYPERTENEV', 'STROKEV', 'SMOKENOW', 'ADPALS', 'ADMALS', 'ADPAIN', 'ADRISK', 'ADOVER']\n",
        "data = pd.get_dummies(data, columns = categorical_vars)\n",
        "\n",
        "print(data.columns)"
      ],
      "metadata": {
        "id": "D5JHv7be4nk1",
        "colab": {
          "base_uri": "https://localhost:8080/"
        },
        "outputId": "f1385c3a-ba63-415b-d55e-1633a79def34"
      },
      "execution_count": 3,
      "outputs": [
        {
          "output_type": "stream",
          "name": "stdout",
          "text": [
            "Index(['AGE', 'FAMSIZE', 'HISPYN', 'FTOTVAL', 'INCWAGE', 'INCBUS', 'INCUNEMP',\n",
            "       'INCWKCOM', 'INCINT', 'INCDIVID',\n",
            "       ...\n",
            "       'ADRISK_Disagree Somewhat', 'ADRISK_Disagree Strongly',\n",
            "       'ADRISK_Not Asked', 'ADRISK_Uncertain', 'ADOVER_Agree Somewhat',\n",
            "       'ADOVER_Agree Strongly', 'ADOVER_Disagree Somewhat',\n",
            "       'ADOVER_Disagree Strongly', 'ADOVER_Not Asked', 'ADOVER_Uncertain'],\n",
            "      dtype='object', length=202)\n"
          ]
        }
      ]
    },
    {
      "cell_type": "code",
      "source": [
        "# Split the data into input features (X) and target variable (y)\n",
        "X = data.drop('HINOTCOV', axis=1)\n",
        "y = data['HINOTCOV']\n",
        "\n",
        "# Split the encoded data into training and testing sets\n",
        "X_train, X_test, y_train, y_test = train_test_split(X, y, test_size=0.2, random_state=42)"
      ],
      "metadata": {
        "id": "xzcbHa0_x_C6"
      },
      "execution_count": 4,
      "outputs": []
    },
    {
      "cell_type": "code",
      "source": [
        "# Create and train the logistic regression model\n",
        "model = RandomForestClassifier()  # Increase max_iter\n",
        "model.fit(X_train, y_train)\n",
        "\n",
        "# Make predictions on the test set\n",
        "y_pred = model.predict(X_test)\n",
        "\n",
        "# Compute the accuracy score\n",
        "accuracy = accuracy_score(y_test, y_pred)\n",
        "print(\"Accuracy:\", accuracy)"
      ],
      "metadata": {
        "colab": {
          "base_uri": "https://localhost:8080/"
        },
        "id": "qC_ifTO95CT-",
        "outputId": "137e5e2b-9dcf-461e-efbb-54639f7e1547"
      },
      "execution_count": 5,
      "outputs": [
        {
          "output_type": "stream",
          "name": "stdout",
          "text": [
            "Accuracy: 0.8867411750335898\n"
          ]
        }
      ]
    },
    {
      "cell_type": "code",
      "source": [
        "# Compute the confusion matrix\n",
        "cm = confusion_matrix(y_test, y_pred)\n",
        "\n",
        "# Plot the confusion matrix\n",
        "plt.figure(figsize=(8, 6))\n",
        "sns.heatmap(cm, annot=True, fmt=\"d\", cmap=\"Blues\")\n",
        "plt.title(\"Confusion Matrix\")\n",
        "plt.xlabel(\"Predicted\")\n",
        "plt.ylabel(\"Actual\")\n",
        "plt.show()\n"
      ],
      "metadata": {
        "colab": {
          "base_uri": "https://localhost:8080/",
          "height": 564
        },
        "id": "rH0LXGsM4rH9",
        "outputId": "37f4268f-ae7d-4916-8f40-1f3648bfe283"
      },
      "execution_count": 6,
      "outputs": [
        {
          "output_type": "display_data",
          "data": {
            "text/plain": [
              "<Figure size 800x600 with 2 Axes>"
            ],
            "image/png": "[encoded data removed]"
          },
          "metadata": {}
        }
      ]
    },
    {
      "cell_type": "code",
      "source": [
        "# Create the SHAP explainer using the logistic regression model and the training set\n",
        "explainer = shap.Explainer(model, X_train)\n",
        "\n",
        "# Compute SHAP values for the test set\n",
        "shap_values = explainer(X_test)  # this should now return an Explanation object\n",
        "\n",
        "# Create the SHAP beeswarm plot\n",
        "shap.plots.beeswarm(shap_values)"
      ],
      "metadata": {
        "id": "lkmUx4UM4sj6"
      },
      "execution_count": null,
      "outputs": []
    }
  ]
}